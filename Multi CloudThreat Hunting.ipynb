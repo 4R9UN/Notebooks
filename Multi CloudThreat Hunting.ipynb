{
 "cells": [
  {
   "cell_type": "markdown",
   "metadata": {},
   "source": [
    "# Setup\n",
    "\n",
    "msticpy is a set of Python tools intended to be used for security investigations and hunting. Many of the tools originated as code Jupyter notebooks written to solve a problem as part of a security investigation. Some of the tools are only useful in notebooks (e.g. the widgets and visualizations) but many others can be used from the Python commandline or imported into your code.\n",
    "\n",
    "MSTICpy includes a feature called nbinit that handles the process of installing and importing modules into a notebook environment. This was developed to allow for a clearer starting cell in notebooks and to avoid users being presented with a very large cell block at the top of a notebook.\n",
    "By passing the notebook namespace to init_notebook() this function handles the job of installing and importing core MSTICpy packages along with any others that might be needed by a notebook.\n",
    "\n",
    "Find more details for the instalation from [MSTICPY](https://msticpy.readthedocs.io/en/latest/getting_started/Installing.html#).\n",
    "\n"
   ]
  },
  {
   "cell_type": "code",
   "execution_count": null,
   "metadata": {},
   "outputs": [],
   "source": [
    "from msticpy.nbtools import nbinit\n",
    "extra_imports = [\n",
    "    \"msticpy.vis.timeseries, display_timeseries_anomolies\",\n",
    "    \"msticpy.analysis.timeseries, timeseries_anomalies_stl\",\n",
    "    \"datetime, datetime\",\n",
    "    \"msticpy.vis.nbdisplay, draw_alert_entity_graph\",\n",
    "    \"msticpy.context.ip_utils, convert_to_ip_entities\",\n",
    "    \"msticpy.vis.ti_browser, browse_results\",\n",
    "    \"IPython.display, Image\",\n",
    "    \"msticpy.context.ip_utils, get_whois_info\",\n",
    "    \"msticpy.context.ip_utils, get_ip_type\"\n",
    "    \n",
    "]\n",
    "\n",
    "nbinit.init_notebook(\n",
    "    namespace=globals(),\n",
    "    additional_packages=[\"pyvis\"],\n",
    "    extra_imports=extra_imports,\n",
    ");\n",
    "\n",
    "from msticpy.context import TILookup\n",
    "ti = TILookup()"
   ]
  },
  {
   "cell_type": "code",
   "execution_count": null,
   "metadata": {},
   "outputs": [],
   "source": [
    "# Initalize and connect to Azure Sentinel using details from our config file.\n",
    "qry_prov = QueryProvider('LogAnalytics')\n",
    "wkspace = WorkspaceConfig()\n",
    "qry_prov.connect(wkspace.code_connect_str)"
   ]
  },
  {
   "cell_type": "markdown",
   "metadata": {},
   "source": [
    "# Threat Intelligence enrichments \n",
    "Finding a Threat Intelligence Indicators for tracking the IP address involements in any cloud operations, Here you can utilise a your owen threat intelligence feeds or API calls, we are using a Tredinals TI based feeds from sentinel loag analytics tables\n"
   ]
  },
  {
   "cell_type": "code",
   "execution_count": null,
   "metadata": {},
   "outputs": [],
   "source": [
    "query = f\"\"\"ThreatIntelligenceIndicator\n",
    "|where ConfidenceScore >= 80\n",
    "|extend NetworkIOCType= iff(isnotempty(DomainName),\"Domain\",\"NetworkIP\")\n",
    "|extend IndicatorType= coalesce(FileHashType,NetworkIOCType), TIIoc= coalesce(NetworkSourceIP,FileHashValue,DomainName)\n",
    "|distinct ThreatType,IndicatorType,TIIoc,ActivityGroupNames\n",
    "|limit 1000\"\"\"\n",
    "\n",
    "ThreatintelligenceIOCs = qry_prov.exec_query(query)\n",
    "ThreatintelligenceIOCs = ThreatintelligenceIOCs.to_dataframe()\n",
    "display(ThreatintelligenceIOCs)"
   ]
  },
  {
   "cell_type": "markdown",
   "metadata": {},
   "source": [
    "# Explore the TI indicatores in AWS, GCP and Azure\n",
    "\n",
    "Below cell executions will show you cloud resource access via suspicious IP addresses, where we can find possible compromised users or cloud resources across AWS, GCP, or Azure clouds Env."
   ]
  },
  {
   "cell_type": "code",
   "execution_count": null,
   "metadata": {},
   "outputs": [],
   "source": [
    "# AWS CloudTrail logs are a great source of information for monitoring and auditing AWS account activity. \n",
    "\n",
    "ThreatintelligenceIOCs_IP = list(ThreatintelligenceIOCs[ThreatintelligenceIOCs['IndicatorType'] == 'NetworkIP']['TIIoc'])\n",
    "ThreatintelligenceIOCs_Domain = list(ThreatintelligenceIOCs[ThreatintelligenceIOCs['IndicatorType'] == 'Domain']['TIIoc'])\n",
    "ThreatintelligenceIOCs_FileHash = list(ThreatintelligenceIOCs[ThreatintelligenceIOCs['IndicatorType'] == 'FileHash']['TIIoc'])\n",
    "\n",
    "AWSCloudTrails_IP_View = f\"\"\"AWSCloudTrail\n",
    "            | where TimeGenerated > ago(30d)\n",
    "        | where SourceIPAddress in ({ThreatintelligenceIOCs_IP})\n",
    "        | where ActionType == \"Success\"\n",
    "        | project\n",
    "            arn\n",
    "            EventName,\n",
    "            EventSource,\n",
    "            EventTypeName,\n",
    "            RecipientAccountId,\n",
    "            ResponseElements,\n",
    "            SessionMfaAuthenticated,\n",
    "            SourceIpAddress,\n",
    "            TimeGenerated,\n",
    "            UserAgent,\n",
    "            UserIdentityArn,\n",
    "            UserIdentityType,\n",
    "            UserIdentityUserName\"\"\"\n",
    "AWSCloudTrails_IP_View = qry_prov.exec_query(AWSCloudTrails_IP_View)\n",
    "AWSCloudTrails_IP_View = AWSCloudTrails_IP_View.to_dataframe()\n",
    "display(AWSCloudTrails_IP_View)"
   ]
  },
  {
   "cell_type": "code",
   "execution_count": null,
   "metadata": {},
   "outputs": [],
   "source": [
    "# GCP Audit logs are a great source of information for monitoring and auditing GCP account activity.\n",
    "\n",
    "GCPAuditLogs_IP_View = f\"\"\"GCPAuditLogs \n",
    "            | where TimeGenerated > ago(30d)\n",
    "      // Extract and transform relevant GCP Audit Log attributes\n",
    "      | extend\n",
    "          GCPUserUPN= tostring(parse_json(AuthenticationInfo).principalEmail),\n",
    "          GCPUserIp = tostring(parse_json(RequestMetadata).callerIp),\n",
    "          GCPUserUA= tostring(parse_json(RequestMetadata).callerSuppliedUserAgent),\n",
    "          Tags= tostring(parse_json(Request).tags),\n",
    "          RequestJS = parse_json(Request)\n",
    "      | where GCPuserIp in ({ThreatintelligenceIOCs_IP})\n",
    "      | where GCPUserUPN !has \"gserviceaccount.com\"\n",
    "      | extend Name = tostring(split(GCPUserUPN, \"@\")[0]), UPNSuffix = tostring(split(GCPUserUPN, \"@\")[1])\n",
    "      // Select relevant attributes for further analysis\n",
    "      | project\n",
    "          GCPOperationTime=TimeGenerated,\n",
    "          GCPUserUPN,\n",
    "          GCPUserIp,\n",
    "          GCPUserUA,\n",
    "          Name,\n",
    "          UPNSuffix\"\"\"\n",
    "GCPAuditLogs_IP_View = qry_prov.exec_query(GCPAuditLogs_IP_View)\n",
    "GCPAuditLogs_IP_View = GCPAuditLogs_IP_View.to_dataframe()  \n",
    "display(GCPAuditLogs_IP_View)"
   ]
  },
  {
   "cell_type": "code",
   "execution_count": null,
   "metadata": {},
   "outputs": [],
   "source": [
    "# Azure Signin logs are a great source of information for monitoring and auditing Azure account activity.\n",
    "\n",
    "AzureSiginLogs_IP_View = f\"\"\"SigninLogs\n",
    "            | where TimeGenerated > ago(30d)\n",
    "            //| where AppDisplayName == \"Azure Portal\"\n",
    "            | where isnotempty(OriginalRequestId)\n",
    "            | where IPAddress in ({ThreatintelligenceIOCs_IP})\n",
    "            | project \n",
    "                IPAddress, \n",
    "                UserPrincipalName, \n",
    "                TimeGenerated,\n",
    "                UserAgent,\n",
    "                ConditionalAccessStatus,\n",
    "                OperationName,\n",
    "                RiskDetail,\n",
    "                AuthenticationRequirement,\n",
    "                ClientAppUsed \n",
    "            // Extracting the name and UPN suffix from UserPrincipalName\n",
    "            | extend\n",
    "                Name = tostring(split(UserPrincipalName, \"@\")[0]),\n",
    "                UPNSuffix = tostring(split(UserPrincipalName, \"@\")[1])\"\"\"\n",
    "AzureSiginLogs_IP_View = qry_prov.exec_query(AzureSiginLogs_IP_View)\n",
    "AzureSiginLogs_IP_View = AzureSiginLogs_IP_View.to_dataframe()\n",
    "display(AzureSiginLogs_IP_View)"
   ]
  }
 ],
 "metadata": {
  "kernelspec": {
   "display_name": "Python 3",
   "language": "python",
   "name": "python3"
  },
  "language_info": {
   "codemirror_mode": {
    "name": "ipython",
    "version": 3
   },
   "file_extension": ".py",
   "mimetype": "text/x-python",
   "name": "python",
   "nbconvert_exporter": "python",
   "pygments_lexer": "ipython3",
   "version": "3.11.4"
  }
 },
 "nbformat": 4,
 "nbformat_minor": 2
}
